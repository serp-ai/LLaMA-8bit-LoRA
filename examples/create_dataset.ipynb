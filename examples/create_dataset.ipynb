{
 "cells": [
  {
   "cell_type": "code",
   "execution_count": 23,
   "metadata": {},
   "outputs": [],
   "source": [
    "# imports and setup\n",
    "import openai\n",
    "from duckduckgo_search import ddg\n",
    "import re\n",
    "\n",
    "api_key = ''\n",
    "chat_model = 'gpt-3.5-turbo'\n",
    "temperature = 1.0\n",
    "top_p = 1.0\n",
    "max_tokens = 2048 # llama's max sequence length\n",
    "presence_penalty = 0.0\n",
    "frequency_penalty = 0.0\n",
    "logit_bias = {}\n",
    "\n",
    "# change to None if you don't want to use any stop sequence\n",
    "stop = ['Observation:']\n",
    "\n",
    "openai.api_key = api_key"
   ]
  },
  {
   "cell_type": "code",
   "execution_count": null,
   "metadata": {},
   "outputs": [],
   "source": [
    "# This is an example on a chain of thought loop with tool usage (add support for whatever tool/api you want)"
   ]
  },
  {
   "cell_type": "code",
   "execution_count": 62,
   "metadata": {},
   "outputs": [],
   "source": [
    "def parse_action(text):\n",
    "    try:\n",
    "        # Regular expression pattern to match the last \"Action\" and \"Action Input\" in the text\n",
    "        pattern = r'Action: ([^\\n]*\\n)+Action Input: ([^\\n]*)$'\n",
    "\n",
    "        match = re.search(pattern, text, re.MULTILINE)\n",
    "\n",
    "        if match:\n",
    "            last_action = match.group(1).strip()\n",
    "            last_action_input = match.group(2).strip()\n",
    "            if last_action.lower() == 'web search':\n",
    "                print('Searching for: ' + last_action_input + '...')\n",
    "                results = ddg(keywords=last_action_input, safesearch='Off', time=None, max_results=5)\n",
    "                out = '{'\n",
    "                for result in results:\n",
    "                    out += 'title: ' + result['title'] + ',\\n\\tbody: ' + result['body'] + ',\\n\\t'\n",
    "                return out.strip() + '}'\n",
    "            elif last_action.lower() == 'calculator':\n",
    "                print('Calculating: ' + last_action_input + '...')\n",
    "                # rough example of a calculator\n",
    "                return eval(last_action_input)\n",
    "            else:\n",
    "                return None\n",
    "        else:\n",
    "            return None\n",
    "    except:\n",
    "        return None"
   ]
  },
  {
   "cell_type": "code",
   "execution_count": 55,
   "metadata": {},
   "outputs": [],
   "source": [
    "# define prompt (adapted from gpt-4 paper)\n",
    "prompt = \"\"\"Answer the following questions as best as you can. You have access to the following tools:\n",
    "Web Search: Searches the web for the given search query.\n",
    "Calculator: Performs basic arithmetic operations.\n",
    "Use the following format:\n",
    "Question: the input question you must answer\n",
    "Thought: you should always think about what to do\n",
    "Action: the action you to take, should be one of [Web Search, Wolfram Alpha, Calculator]\n",
    "Action Input: the input to the action\n",
    "Observation: the result of the action\n",
    "... (this Thought/Action/Observation loop can repeat N times)\n",
    "Thought: I now know the final answer\n",
    "Final Answer: the final answer to the original input question\n",
    "Begin!\n",
    "Question: {question}\"\"\""
   ]
  },
  {
   "cell_type": "code",
   "execution_count": 5,
   "metadata": {},
   "outputs": [],
   "source": [
    "# load model_inputs if applicable\n",
    "questions = [\n",
    "    'How many moons are in the solar system?',\n",
    "    'What is the capital of France?',\n",
    "    'What is the latest ml research?',\n",
    "]"
   ]
  },
  {
   "cell_type": "code",
   "execution_count": 60,
   "metadata": {},
   "outputs": [
    {
     "name": "stdout",
     "output_type": "stream",
     "text": [
      "Searching for: \"how many moons are in the solar system\"...\n",
      "Searching for: \"how many moons are in the solar system in total\"...\n"
     ]
    }
   ],
   "source": [
    "# loop through questions\n",
    "responses = []\n",
    "for question in questions:\n",
    "    # Initial response\n",
    "    user_messages = [{\n",
    "        'role': 'user',\n",
    "        'content': prompt.format(question=question)\n",
    "    }]\n",
    "    response = openai.ChatCompletion.create(\n",
    "        model=chat_model,\n",
    "        messages=user_messages,\n",
    "        temperature=temperature,\n",
    "        top_p=top_p,\n",
    "        n=1,\n",
    "        stream=False,\n",
    "        stop=stop,\n",
    "        max_tokens=max_tokens,\n",
    "        presence_penalty=presence_penalty,\n",
    "        frequency_penalty=frequency_penalty,\n",
    "        logit_bias=logit_bias,\n",
    "        user=''\n",
    "    )\n",
    "\n",
    "    # action loop\n",
    "    next_message = ''\n",
    "    while True:\n",
    "        action_result = parse_action(response.choices[0].message.content)\n",
    "        if next_message != '':\n",
    "            next_message = next_message + ' '\n",
    "        if action_result is None:\n",
    "            break\n",
    "        next_message += response.choices[0].message.content.strip() + '\\nObservation: ' + action_result + '\\nThought:'\n",
    "        # get the next action\n",
    "        response = openai.ChatCompletion.create(\n",
    "            model=chat_model,\n",
    "            messages=[user_messages[0], {'role': 'assistant', 'content': next_message}],\n",
    "            temperature=temperature,\n",
    "            top_p=top_p,\n",
    "            n=1,\n",
    "            stream=False,\n",
    "            stop=stop,\n",
    "            max_tokens=max_tokens,\n",
    "            presence_penalty=presence_penalty,\n",
    "            frequency_penalty=frequency_penalty,\n",
    "            logit_bias=logit_bias,\n",
    "            user=''\n",
    "        )\n",
    "        \n",
    "    responses.append({'question': question, 'answer': next_message + response.choices[0].message.content.strip()})"
   ]
  },
  {
   "cell_type": "code",
   "execution_count": 61,
   "metadata": {},
   "outputs": [
    {
     "name": "stdout",
     "output_type": "stream",
     "text": [
      "Thought: I don't think I know the answer to this question off the top of my head.\n",
      "Action: Web Search\n",
      "Action Input: \"how many moons are in the solar system\"\n",
      "Observation: {title: Overview | Moons - NASA Solar System Exploration,\n",
      "\tbody: How Many Moons Are There in the Solar System? The traditional moon count most people are familiar with stands at 226: One moon for Earth; Two for Mars; 95 at Jupiter; 83 at Saturn; 27 at Uranus; 14 at Neptune; and 5 for dwarf planet Pluto.According to NASA/JPLs Solar System Dynamics team, astronomers have documented another 462 moons orbiting smaller objects, such as asteroids, dwarf ...,\n",
      "\ttitle: How Many Moons? | NASA Space Place - NASA Science for Kids,\n",
      "\tbody: Uranus and Neptune. Uranus has 27 moons that we know of. Some of them are half made of ice. Lastly, Neptune has 14 named moons. One of Neptunes moons, Triton, is as big as dwarf planet Pluto. To learn more about the moons in our solar system, visit the NASA Solar System Exploration moons page. article last updated August 29, 2022.,\n",
      "\ttitle: Our Solar System | NASA Solar System Exploration,\n",
      "\tbody: Our solar system is made up of a star—the Sun—eight planets, 146 moons, a bunch of comets, asteroids and space rocks, ice, and several dwarf planets, such as Pluto.,\n",
      "\ttitle: How Many Moons are in the Solar System? - Universe Today,\n",
      "\tbody: Similar to Jupiter, it is estimated that Saturn has at least 150 moons and moonlets, but only 83 of these moons have been given official names or designations. Of these, 57 are less than 10 km (6. ...,\n",
      "\ttitle: List of moons | Britannica,\n",
      "\tbody: Table of Contents. There are 171 moons, or natural satellites, orbiting the planets in our solar system; Earth, Mars, Jupiter, Saturn, Uranus, and Neptune have 1, 2, 66, 62, 27, and 13 moons, respectively. The following is a list of some of the major planetary moons, including those of the dwarf planet Pluto.,}\n",
      "Thought: There are likely more than 200 moons in the solar system.\n",
      "Action: Web Search\n",
      "Action Input: \"how many moons are in the solar system in total\"\n",
      "Observation: {title: How Many Moons are in the Solar System? - Universe Today,\n",
      "\tbody: Similar to Jupiter, it is estimated that Saturn has at least 150 moons and moonlets, but only 83 of these moons have been given official names or designations. Of these, 57 are less than 10 km (6. ...,\n",
      "\ttitle: List of Moons in the Solar System · Facts and information,\n",
      "\tbody: Moons in the Solar System. There are currently 181 known moons in our solar system orbiting the various planets and dwarf planets. Of the 13 planets and dwarf planets, there are four which dont have any moons. These are the planets Mercury and Venus, and the dwarf planets Ceres and Makemake.,\n",
      "\ttitle: Total Number of Moons in the Solar System with Facts - Planets Education,\n",
      "\tbody: Solar System. There are a total number of 216 moons (natural satellites) in the solar system for Planets and Dwarf planets. All 8 planets have a total of 207 moons and all 5 dwarf planets have a total of 9 moons. Some Possible Dwarf Planets and Minor Planets including Asteroids also have small moons. Where some planets have no moon, some have ...,\n",
      "\ttitle: What are the moons of the solar system and how many are there - ZME Science,\n",
      "\tbody: A A. This is an illustration of some of the most significant moons of our solar system at their correct relative sizes to each other and to Earth. Pictured are Earths Moon; Jupiters Callisto ...,\n",
      "\ttitle: How many moons does our solar system have? - Universal-Sci,\n",
      "\tbody: In truth, answering that question requires a bit of a clarification first. If we are talking about confirmed moons that orbit any of the planets of the Solar System (i.e. those that are consistent with the definition adopted by the IAU in 2006 ), then we can say that there are currently 173 known moons.,}\n",
      "Thought: There are approximately 181 moons in the solar system according to my web search results.\n",
      "Final Answer: Approximately 181 moons.\n"
     ]
    }
   ],
   "source": [
    "print(responses[0]['answer'])"
   ]
  },
  {
   "cell_type": "code",
   "execution_count": null,
   "metadata": {},
   "outputs": [],
   "source": [
    "# Then you can just create the training dataset by doing combining the question and answer in to one prompt in the training script data loading portion."
   ]
  }
 ],
 "metadata": {
  "kernelspec": {
   "display_name": "Python 3",
   "language": "python",
   "name": "python3"
  },
  "language_info": {
   "codemirror_mode": {
    "name": "ipython",
    "version": 3
   },
   "file_extension": ".py",
   "mimetype": "text/x-python",
   "name": "python",
   "nbconvert_exporter": "python",
   "pygments_lexer": "ipython3",
   "version": "3.10.8"
  },
  "orig_nbformat": 4
 },
 "nbformat": 4,
 "nbformat_minor": 2
}
